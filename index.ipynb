{
 "cells": [
  {
   "cell_type": "markdown",
   "metadata": {},
   "source": [
    "# Ridge and Lasso Regression"
   ]
  },
  {
   "cell_type": "markdown",
   "metadata": {},
   "source": [
    "## Introduction"
   ]
  },
  {
   "cell_type": "markdown",
   "metadata": {},
   "source": [
    "At this point, you've seen a number of criteria and algorithms for fitting regression models to data. You've seen the simple linear regression using ordinary least squares, and its more general regression of polynomial functions. You've also seen how we can overfit models to data using polynomials and interactions. With all of that, you began to explore other tools to analyze this general problem of overfitting versus underfitting, all this using training and test splits, bias and variance, and cross validation.\n",
    "\n",
    "Now you're going to take a look at another way to tune the models you create. These methods all modify the mean squared error function that you are optimizing against. The modifications will add a penalty for large coefficient weights in the resulting model."
   ]
  },
  {
   "cell_type": "markdown",
   "metadata": {},
   "source": [
    "## Objectives"
   ]
  },
  {
   "cell_type": "markdown",
   "metadata": {},
   "source": [
    "You will be able to:"
   ]
  },
  {
   "cell_type": "markdown",
   "metadata": {},
   "source": [
    "- Define Lasso regression \n",
    "- Define Ridge regression \n",
    "- Describe why standardization is necessary before Ridge and Lasso regression \n",
    "- Compare and contrast Lasso, Ridge, and non-regularized regression \n",
    "- Use Lasso and Ridge regression with scikit-learn "
   ]
  },
  {
   "cell_type": "markdown",
   "metadata": {},
   "source": [
    "## Our regression cost function"
   ]
  },
  {
   "cell_type": "markdown",
   "metadata": {},
   "source": [
    "From an earlier lesson, you know that when solving for a linear regression, you can express the cost function as\n",
    "\n",
    "$$ \\text{cost_function}= \\sum_{i=1}^n(y_i - \\hat{y})^2 = \\sum_{i=1}^n(y_i - (mx_i + b))^2$$\n",
    "\n",
    "This is the expression for simple linear regression (for 1 predictor $x$). If you have multiple predictors, you would have something that looks like:\n",
    "\n",
    "$$ \\text{cost_function}= \\sum_{i=1}^n(y_i - \\hat{y})^2 = \\sum_{i=1}^n(y_i - \\sum_{j=1}^k(m_jx_{ij} ) -b )^2$$\n",
    "\n",
    "where $k$ is the number of predictors."
   ]
  },
  {
   "cell_type": "markdown",
   "metadata": {},
   "source": [
    "## Penalized estimation"
   ]
  },
  {
   "cell_type": "markdown",
   "metadata": {},
   "source": [
    "You've seen that when the number of predictors increases, your model complexity increases, with a higher chance of overfitting as a result. We've previously seen fairly ad-hoc variable selection methods (such as forward/backward selection), to simply select a few variables from a longer list of variables as predictors. \n",
    "\n",
    "Now, instead of completely \"deleting\" certain predictors from a model (which is equal to setting coefficients equal to zero), wouldn't it be interesting to just reduce the values of the coefficients to make them less sensitive to noise in the data? *Penalized estimation* operates in a way where parameter shrinkage effects are used to make some or all of the coefficients smaller in magnitude (closer to zero). Some of the penalties have the property of performing both variable selection (setting some coefficients exactly equal to zero) and shrinking the other coefficients. Ridge and Lasso regression are two examples of penalized estimation. There are multiple advantages to using these methods:\n",
    "\n",
    "- They reduce model complexity\n",
    "- The may prevent from overfitting\n",
    "- Some of them may perform variable selection at the same time (when coefficients are set to 0)\n",
    "- They can be used to counter multicollinearity\n",
    "\n",
    "Lasso and Ridge are two commonly used so-called **regularization techniques**. Regularization is a general term used when one tries to battle overfitting. Regularization techniques will be covered in more depth when we're moving into machine learning!"
   ]
  },
  {
   "cell_type": "markdown",
   "metadata": {},
   "source": [
    "## Ridge regression"
   ]
  },
  {
   "cell_type": "markdown",
   "metadata": {},
   "source": [
    "In ridge regression, the cost function is changed by adding a penalty term to the square of the magnitude of the coefficients."
   ]
  },
  {
   "cell_type": "markdown",
   "metadata": {},
   "source": [
    "$$ \\text{cost_function_ridge}= \\sum_{i=1}^n(y_i - \\hat{y})^2 = \\sum_{i=1}^n(y_i - \\sum_{j=1}^k(m_jx_{ij})-b)^2 + \\lambda \\sum_{j=1}^p m_j^2$$"
   ]
  },
  {
   "cell_type": "markdown",
   "metadata": {},
   "source": [
    "If you have two predictors the full equation would look like this (notice that there is a penalty term `m` for each predictor in the model - in this case, two) : "
   ]
  },
  {
   "cell_type": "markdown",
   "metadata": {},
   "source": [
    "$$ \\text{cost_function_ridge}= \\sum_{i=1}^n(y_i - \\hat{y})^2 = $$\n",
    "\n",
    "$$ \\sum_{i=1}^n(y_i - ((m_1x_{1i})-b)^2 + \\lambda m_1^2 + (m_2x_{2i})-b)^2 + \\lambda m_2^2)$$"
   ]
  },
  {
   "cell_type": "markdown",
   "metadata": {},
   "source": [
    "Remember that you want to minimize your cost function, so by adding the penalty term $\\lambda$, ridge regression puts a constraint on the coefficients $m$. This means that large coefficients penalize the optimization function. That's why ridge regression leads to a shrinkage of the coefficients and helps to reduce model complexity and multicollinearity."
   ]
  },
  {
   "cell_type": "markdown",
   "metadata": {},
   "source": [
    "$\\lambda$ is a so-called *hyperparameter*, which means you have to specify the value for lambda. For a small lambda, the outcome of your ridge regression will resemble a linear regression model. For large lambda, penalization will increase and more parameters will shrink.\n",
    "\n",
    "Ridge regression is often also referred to as **L2 Norm Regularization**. "
   ]
  },
  {
   "cell_type": "markdown",
   "metadata": {},
   "source": [
    "## Lasso regression"
   ]
  },
  {
   "cell_type": "markdown",
   "metadata": {},
   "source": [
    "Lasso regression is very similar to Ridge regression, except that the magnitude of the coefficients are not squared in the penalty term. So, while Ridge regression keeps the sum of the squared regression coefficients (except for the intercept) bounded, the Lasso method bounds the sum of the absolute values.\n",
    "\n",
    "The resulting cost function looks like this:"
   ]
  },
  {
   "cell_type": "markdown",
   "metadata": {},
   "source": [
    "$$ \\text{cost_function_lasso}= \\sum_{i=1}^n(y_i - \\hat{y})^2 = \\sum_{i=1}^n(y_i - \\sum_{j=1}^k(m_jx_{ij})-b)^2 + \\lambda \\sum_{j=1}^p \\mid m_j \\mid$$"
   ]
  },
  {
   "cell_type": "markdown",
   "metadata": {},
   "source": [
    "If you have two predictors the full equation would look like this (notice that there is a penalty term `m` for each predictor in the model - in this case, two): "
   ]
  },
  {
   "cell_type": "markdown",
   "metadata": {},
   "source": [
    "$$ \\text{cost_function_lasso}= \\sum_{i=1}^n(y_i - \\hat{y})^2 = $$\n",
    "\n",
    "$$\\sum_{i=1}^n(y_i - ((m_1x_{1i})-b)^2 + \\lambda \\mid m_1 \\mid) + ((m_2x_{2i})-b)^2 + \\lambda \\mid m_2 \\mid) $$"
   ]
  },
  {
   "cell_type": "markdown",
   "metadata": {},
   "source": [
    "The name \"Lasso\" comes from \"Least Absolute Shrinkage and Selection Operator\".\n",
    "\n",
    "While it may look similar to the definition of the Ridge estimator, the effect of the absolute values is that some coefficients might be set exactly equal to zero, while other coefficients are shrunk towards zero. Hence the Lasso method is attractive because it performs estimation *and* selection simultaneously. Especially for variable selection when the number of predictors is very high."
   ]
  },
  {
   "cell_type": "markdown",
   "metadata": {},
   "source": [
    "Lasso regression is often also referred to as **L1 Norm Regularization**. \n"
   ]
  },
  {
   "cell_type": "markdown",
   "metadata": {},
   "source": [
    "### Standardization before Regularization\n",
    "\n",
    "An important step before using either Lasso or Ridge regularization is to first standardize your data such that it is all on the same scale. Regularization is based on the concept of penalizing larger coefficients, so if you have features that are on different scales, some will get unfairly penalized. Below, you can see that we are using a `MinMaxScaler` to standardize our data to the same scale. A downside of standardization is that the value of the coefficients become less interpretable and must be transformed back to their original scale if you want to interpret how a one unit change in a feature impacts the target variable."
   ]
  },
  {
   "cell_type": "markdown",
   "metadata": {},
   "source": [
    "## An example using our `auto-mpg` data"
   ]
  },
  {
   "cell_type": "markdown",
   "metadata": {},
   "source": [
    "Let's transform our continuous predictors in `auto-mpg` and see how they perform as predictors in a Ridge versus Lasso regression. \n",
    "\n",
    "We import the dataset and, seperate the target and predictors and then split the data into training and test sets: "
   ]
  },
  {
   "cell_type": "code",
   "execution_count": 1,
   "metadata": {},
   "outputs": [],
   "source": [
    "#from sklearn.linear_model import LinearRegression\n",
    "from sklearn.preprocessing import MinMaxScaler\n",
    "from sklearn.linear_model import Lasso, Ridge, LinearRegression\n",
    "from sklearn.model_selection import train_test_split\n",
    "import pandas as pd\n",
    "import numpy as np\n",
    "import matplotlib.pyplot as plt\n",
    "\n",
    "data = pd.read_csv('auto-mpg.csv') \n",
    "\n",
    "y = data[['mpg']]\n",
    "X = data.drop(['mpg', 'car name', 'origin'], axis=1)\n",
    "\n",
    "# Perform test train split\n",
    "X_train , X_test, y_train, y_test = train_test_split(X, y, test_size=0.3, random_state=12)"
   ]
  },
  {
   "cell_type": "markdown",
   "metadata": {},
   "source": [
    "After splitting the data into training and test sets, we use the `MixMaxScaler()` to fit and transform `X_train` and transform `X_test`. \n",
    "\n",
    "> NOTE: You want to fit and transform only the **training data** because in a real-world setting, you only have access to this data. You can then use the same scalar object to **transform** the test data. It's not uncommon for people to first transform the data and then split into training and test sets -- which leads to **data-leakage**. "
   ]
  },
  {
   "cell_type": "code",
   "execution_count": 2,
   "metadata": {},
   "outputs": [],
   "source": [
    "scale = MinMaxScaler()\n",
    "X_train_transformed = scale.fit_transform(X_train)\n",
    "X_test_transformed = scale.transform(X_test)"
   ]
  },
  {
   "cell_type": "markdown",
   "metadata": {},
   "source": [
    "We will not fit the Ridge, Lasso, and Linear regression models to the transformed training data. Notice that the Ridge and Lasso models have the parameter alpha, which is Scikit-Learn's version of $\\lambda$ in the regularization cost functions."
   ]
  },
  {
   "cell_type": "code",
   "execution_count": 3,
   "metadata": {},
   "outputs": [
    {
     "data": {
      "text/plain": [
       "LinearRegression()"
      ]
     },
     "execution_count": 3,
     "metadata": {},
     "output_type": "execute_result"
    }
   ],
   "source": [
    "# Build a Ridge, Lasso and regular linear regression model  \n",
    "# Note that in scikit-learn, the regularization parameter is denoted by alpha (and not lambda)\n",
    "ridge = Ridge(alpha=0.5)\n",
    "ridge.fit(X_train_transformed, y_train)\n",
    "\n",
    "lasso = Lasso(alpha=0.5)\n",
    "lasso.fit(X_train_transformed, y_train)\n",
    "\n",
    "lin = LinearRegression()\n",
    "lin.fit(X_train_transformed, y_train)"
   ]
  },
  {
   "cell_type": "markdown",
   "metadata": {},
   "source": [
    "Next, let's generate predictions for both the training and test sets: "
   ]
  },
  {
   "cell_type": "code",
   "execution_count": 17,
   "metadata": {},
   "outputs": [
    {
     "name": "stdout",
     "output_type": "stream",
     "text": [
      "[[27.43044968]\n",
      " [29.12901697]\n",
      " [23.91641679]\n",
      " [13.45006408]\n",
      " [33.89163577]\n",
      " [30.33927199]\n",
      " [23.95830523]\n",
      " [27.8354392 ]\n",
      " [31.74547883]\n",
      " [27.96222445]\n",
      " [16.07186836]\n",
      " [19.95143139]\n",
      " [23.06740895]\n",
      " [20.94102582]\n",
      " [12.09713521]\n",
      " [26.41130503]\n",
      " [30.637866  ]\n",
      " [31.93873325]\n",
      " [10.81216988]\n",
      " [26.61809805]\n",
      " [28.41358288]\n",
      " [11.74330395]\n",
      " [24.02691446]\n",
      " [30.82045122]\n",
      " [28.22825954]\n",
      " [25.11087947]\n",
      " [26.802654  ]\n",
      " [17.44183316]\n",
      " [21.01502945]\n",
      " [ 9.38650052]\n",
      " [22.79903199]\n",
      " [26.22855238]\n",
      " [19.41912328]\n",
      " [23.31260377]\n",
      " [14.9212243 ]\n",
      " [27.8631933 ]\n",
      " [31.38333672]\n",
      " [30.41297134]\n",
      " [13.10468433]\n",
      " [27.16238863]\n",
      " [30.99683217]\n",
      " [23.18806452]\n",
      " [31.96631958]\n",
      " [31.11467112]\n",
      " [26.01682369]\n",
      " [28.2821376 ]\n",
      " [29.4652526 ]\n",
      " [22.59354947]\n",
      " [15.17198683]\n",
      " [25.21036695]\n",
      " [20.66863801]\n",
      " [25.47489403]\n",
      " [24.01933685]\n",
      " [21.9893539 ]\n",
      " [29.25052979]\n",
      " [31.28165604]\n",
      " [32.8772608 ]\n",
      " [25.29184985]\n",
      " [32.01205417]\n",
      " [33.87463765]\n",
      " [21.66353507]\n",
      " [14.22472371]\n",
      " [20.49704868]\n",
      " [ 8.91853621]\n",
      " [26.68300402]\n",
      " [22.97433091]\n",
      " [23.79210956]\n",
      " [29.12282309]\n",
      " [16.03523764]\n",
      " [31.56294651]\n",
      " [17.06723495]\n",
      " [14.27094673]\n",
      " [24.73222266]\n",
      " [33.54056548]\n",
      " [14.3098245 ]\n",
      " [32.35003034]\n",
      " [ 7.09498639]\n",
      " [21.2072927 ]\n",
      " [21.3946134 ]\n",
      " [12.81613714]\n",
      " [28.7435254 ]\n",
      " [17.47400806]\n",
      " [19.13310421]\n",
      " [31.66961523]\n",
      " [14.21621717]\n",
      " [32.07570699]\n",
      " [31.64710918]\n",
      " [23.77869483]\n",
      " [31.93220438]\n",
      " [30.76290055]\n",
      " [11.50480976]\n",
      " [30.4305095 ]\n",
      " [ 8.05176236]\n",
      " [28.01528424]\n",
      " [19.84282884]\n",
      " [13.1451171 ]\n",
      " [29.93294301]\n",
      " [11.07787964]\n",
      " [30.39315796]\n",
      " [26.28268324]\n",
      " [27.62750413]\n",
      " [16.63904199]\n",
      " [30.49502899]\n",
      " [29.83407069]\n",
      " [27.13916981]\n",
      " [27.17134739]\n",
      " [25.19128361]\n",
      " [31.01637751]\n",
      " [31.3288181 ]\n",
      " [24.66572027]\n",
      " [23.49595748]\n",
      " [21.71948949]\n",
      " [22.29326196]\n",
      " [15.34373311]\n",
      " [21.83800851]\n",
      " [ 9.77579369]\n",
      " [21.58192817]\n",
      " [30.49707399]] (118, 1)\n",
      "[26.07135672 26.97487574 24.96404406 15.61962423 28.79441325 27.08227748\n",
      " 25.42249428 26.91507494 28.25295255 26.27961084 16.62548527 18.52415512\n",
      " 24.40057215 21.62494742 15.80287939 23.98891647 27.54578741 28.48470751\n",
      " 15.40601077 26.79577297 27.04597753 15.68298663 23.18595021 28.09229937\n",
      " 26.26414053 25.78664148 25.50937446 20.65061777 21.26972963 14.83301867\n",
      " 22.03074545 27.04507866 21.27746055 22.71054004 15.84453867 24.00706645\n",
      " 28.05094817 28.15150093 15.53870263 23.50785581 27.83109344 24.46959351\n",
      " 28.21993151 28.00929735 26.51046694 27.7052421  27.14742915 25.36269348\n",
      " 16.96017304 25.52424552 19.17806881 25.34128152 23.12644903 21.29382972\n",
      " 26.8859236  28.08069876 28.36035429 25.15117737 28.54420869 28.80036337\n",
      " 21.50892436 16.76381916 21.74722022 14.6934863  25.95949451 22.44903449\n",
      " 22.53233613 27.536858   17.34663106 27.8846445  17.47158353 16.18517656\n",
      " 26.43876591 28.87741528 16.03672324 28.64536069 14.22461703 18.88711229\n",
      " 21.81535119 15.75468767 26.83237254 20.46170365 18.39920264 27.95604591\n",
      " 16.24943783 28.6810614  27.76594177 25.40821399 28.15924031 27.53983729\n",
      " 15.73028795 27.83674393 14.44477138 26.22010966 20.35222995 15.95312197\n",
      " 28.11580022 15.31080889 27.54578741 23.45995524 27.05757814 17.28742951\n",
      " 28.2110021  27.34348341 24.07221812 25.95265399 25.08453606 27.95812633\n",
      " 28.01048737 24.97743394 25.5054963  18.8160105  22.21102978 17.28117977\n",
      " 24.45590401 14.88299966 21.31525015 28.05659866] (118,)\n"
     ]
    }
   ],
   "source": [
    "# Generate preditions for training and test sets\n",
    "y_h_ridge_train = ridge.predict(X_train_transformed)\n",
    "y_h_ridge_test = ridge.predict(X_test_transformed)\n",
    "\n",
    "print(y_h_ridge_test, y_h_ridge_test.shape)\n",
    "\n",
    "y_h_lasso_train = lasso.predict(X_train_transformed)\n",
    "y_h_lasso_test = lasso.predict(X_test_transformed)\n",
    "\n",
    "print(y_h_lasso_test, y_h_lasso_test.shape)\n",
    "\n",
    "y_h_lasso_train = np.reshape(lasso.predict(X_train_transformed), (274, 1))\n",
    "y_h_lasso_test = np.reshape(lasso.predict(X_test_transformed), (118, 1))\n",
    "\n",
    "y_h_lin_train = lin.predict(X_train_transformed)\n",
    "y_h_lin_test = lin.predict(X_test_transformed)"
   ]
  },
  {
   "cell_type": "markdown",
   "metadata": {},
   "source": [
    "Look at the RSS for training and test sets for each of the three models: "
   ]
  },
  {
   "cell_type": "code",
   "execution_count": 18,
   "metadata": {},
   "outputs": [
    {
     "name": "stdout",
     "output_type": "stream",
     "text": [
      "Train Error Ridge Model mpg    2684.673787\n",
      "dtype: float64\n",
      "Test Error Ridge Model mpg    2067.795707\n",
      "dtype: float64\n",
      "\n",
      "\n",
      "Train Error Lasso Model mpg    4450.979518\n",
      "dtype: float64\n",
      "Test Error Lasso Model mpg    3544.087085\n",
      "dtype: float64\n",
      "\n",
      "\n",
      "Train Error Unpenalized Linear Model mpg    2658.043444\n",
      "dtype: float64\n",
      "Test Error Unpenalized Linear Model mpg    1976.266987\n",
      "dtype: float64\n"
     ]
    }
   ],
   "source": [
    "print('Train Error Ridge Model', np.sum((y_train - y_h_ridge_train)**2))\n",
    "print('Test Error Ridge Model', np.sum((y_test - y_h_ridge_test)**2))\n",
    "print('\\n')\n",
    "\n",
    "print('Train Error Lasso Model', np.sum((y_train - y_h_lasso_train)**2))\n",
    "print('Test Error Lasso Model', np.sum((y_test - y_h_lasso_test)**2))\n",
    "print('\\n')\n",
    "\n",
    "print('Train Error Unpenalized Linear Model', np.sum((y_train - lin.predict(X_train_transformed))**2))\n",
    "print('Test Error Unpenalized Linear Model', np.sum((y_test - lin.predict(X_test_transformed))**2))"
   ]
  },
  {
   "cell_type": "markdown",
   "metadata": {},
   "source": [
    "We note that Ridge is clearly better than Lasso here, but that the unpenalized model performs best here. Let's see how including Ridge and Lasso changed our parameter estimates."
   ]
  },
  {
   "cell_type": "code",
   "execution_count": 19,
   "metadata": {},
   "outputs": [
    {
     "name": "stdout",
     "output_type": "stream",
     "text": [
      "Ridge parameter coefficients: [[ -2.06904445  -2.88593443  -1.81801505 -15.23785349  -1.45594148\n",
      "    8.1440177 ]]\n",
      "Lasso parameter coefficients: [-9.09743525 -0.         -0.         -4.02703963  0.          3.92348219]\n",
      "Linear model parameter coefficients: [[ -1.33790698  -1.05300843  -0.08661412 -19.26724989  -0.37043697\n",
      "    8.56051229]]\n"
     ]
    }
   ],
   "source": [
    "print('Ridge parameter coefficients:', ridge.coef_)\n",
    "print('Lasso parameter coefficients:', lasso.coef_)\n",
    "print('Linear model parameter coefficients:', lin.coef_)"
   ]
  },
  {
   "cell_type": "markdown",
   "metadata": {},
   "source": [
    "Did you notice that Lasso shrinked a few parameters to 0? The Ridge regression mostly affected the fourth parameter (estimated to be -19.26 for the linear regression model)."
   ]
  },
  {
   "cell_type": "markdown",
   "metadata": {},
   "source": [
    "## Additional reading\n",
    "\n",
    "Full code examples for Ridge and Lasso regression, advantages and disadvantages, and how to code ridge and Lasso in Python can be found [here](https://www.analyticsvidhya.com/blog/2016/01/complete-tutorial-ridge-lasso-regression-python/).\n",
    "\n",
    "Make sure to have a look at the Scikit-Learn documentation for [Ridge](https://scikit-learn.org/stable/modules/generated/sklearn.linear_model.Ridge.html) and [Lasso](https://scikit-learn.org/stable/modules/generated/sklearn.linear_model.Lasso.html).\n"
   ]
  },
  {
   "cell_type": "markdown",
   "metadata": {},
   "source": [
    "## Summary"
   ]
  },
  {
   "cell_type": "markdown",
   "metadata": {},
   "source": [
    "Great! You now know how to perform Lasso and Ridge regression. Let's move on to the lab so you can use these!"
   ]
  }
 ],
 "metadata": {
  "kernelspec": {
   "display_name": "Python 3",
   "language": "python",
   "name": "python3"
  },
  "language_info": {
   "codemirror_mode": {
    "name": "ipython",
    "version": 3
   },
   "file_extension": ".py",
   "mimetype": "text/x-python",
   "name": "python",
   "nbconvert_exporter": "python",
   "pygments_lexer": "ipython3",
   "version": "3.8.5"
  }
 },
 "nbformat": 4,
 "nbformat_minor": 2
}
